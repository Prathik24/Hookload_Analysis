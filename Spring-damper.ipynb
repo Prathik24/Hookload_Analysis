{
 "cells": [
  {
   "cell_type": "code",
   "execution_count": 2,
   "metadata": {},
   "outputs": [],
   "source": [
    "import numpy as np\n",
    "from scipy.integrate import odeint\n",
    "import matplotlib.pyplot as plt \n",
    "import scipy.signal as sig\n",
    "from scipy.integrate import solve_ivp\n",
    "import pandas as pd\n",
    "from scipy.interpolate import interp1d\n",
    "from scipy.signal import savgol_filter , butter , lfilter , freqz\n",
    "from scipy import signal\n",
    "\n"
   ]
  },
  {
   "cell_type": "code",
   "execution_count": 3,
   "metadata": {},
   "outputs": [],
   "source": [
    "path = '/Users/prathikprasad/Desktop/DataRepo Hook Load/12.25inch/'\n",
    "df9= pd.read_csv(path+'BHA9.csv')\n",
    "\n",
    "df9.head()\n",
    "\n",
    "\n",
    "BHAs = [df9]\n",
    "\n",
    "def time_to_seconds(t):\n",
    "    h , m ,s  = map(int , t.split(':'))\n",
    "    return h * 3600 + m * 60 +s\n",
    "\n",
    "for df in BHAs:\n",
    "    df['Time'] = df['HH:MM:SS'].apply(time_to_seconds)\n"
   ]
  },
  {
   "cell_type": "code",
   "execution_count": 4,
   "metadata": {},
   "outputs": [
    {
     "name": "stderr",
     "output_type": "stream",
     "text": [
      "/var/folders/83/x8n8gnb912j4pr6wmv03v7dr0000gn/T/ipykernel_31960/1543707925.py:30: SettingWithCopyWarning: \n",
      "A value is trying to be set on a copy of a slice from a DataFrame\n",
      "\n",
      "See the caveats in the documentation: https://pandas.pydata.org/pandas-docs/stable/user_guide/indexing.html#returning-a-view-versus-a-copy\n",
      "  df9['Block velocity'].iloc[1:] = np.diff(df9['Block Height (feet)'])\n",
      "/var/folders/83/x8n8gnb912j4pr6wmv03v7dr0000gn/T/ipykernel_31960/1543707925.py:33: SettingWithCopyWarning: \n",
      "A value is trying to be set on a copy of a slice from a DataFrame\n",
      "\n",
      "See the caveats in the documentation: https://pandas.pydata.org/pandas-docs/stable/user_guide/indexing.html#returning-a-view-versus-a-copy\n",
      "  df9['Block acceleration'].iloc[1:] = np.diff(df9['Block velocity'])\n"
     ]
    }
   ],
   "source": [
    "# interpolating the block height\n",
    "\n",
    "# 1. Interpolation\n",
    "start_time = df9['Time'].min()\n",
    "stop_time = df9['Time'].max()\n",
    "time_resolution = 0.0001\n",
    "time_new = np.arange(start_time , stop_time , time_resolution)\n",
    "\n",
    "f = interp1d(df9['Time'] , df9['Block Height (feet)'] , kind = 'linear')\n",
    "block_height_new = np.array(f(time_new))\n",
    "\n",
    "\n",
    "\n",
    "def butter_lowpass(cutoff, fs, order=5):\n",
    "    nyq = 0.5 * fs\n",
    "    normal_cutoff = cutoff / nyq\n",
    "    b, a = butter(order, normal_cutoff, btype='low', analog=False)\n",
    "    return b , a \n",
    "\n",
    "def butter_lowpass_filter(data, cutoff, fs, order=5):\n",
    "    b, a = butter_lowpass(cutoff, fs, order=order)\n",
    "    y = lfilter(b, a, data)\n",
    "    return y\n",
    "\n",
    "\n",
    "\n",
    "\n",
    "\n",
    "df9['Block velocity'] = 0  # initialize with some default value\n",
    "df9['Block velocity'].iloc[1:] = np.diff(df9['Block Height (feet)'])\n",
    "\n",
    "df9['Block acceleration'] = 0  # initialize with some default value\n",
    "df9['Block acceleration'].iloc[1:] = np.diff(df9['Block velocity']) \n",
    "df9['Block velocity'] = savgol_filter(df9['Block velocity'] , window_length=5 , polyorder=2)\n",
    "\n"
   ]
  },
  {
   "cell_type": "code",
   "execution_count": 5,
   "metadata": {},
   "outputs": [],
   "source": [
    "cutoff = 0.2 \n",
    "fs = 10000.0\n",
    "order = 3\n",
    "filtered_data = butter_lowpass_filter(block_height_new , cutoff , fs , order)\n",
    "\n",
    "\n"
   ]
  },
  {
   "cell_type": "code",
   "execution_count": 17,
   "metadata": {},
   "outputs": [
    {
     "data": {
      "image/png": "[encoded data removed]",
      "text/plain": [
       "<Figure size 640x480 with 1 Axes>"
      ]
     },
     "metadata": {},
     "output_type": "display_data"
    }
   ],
   "source": [
    "d = 17.5                                                       # feet \n",
    "A = np.pi * (d**2) / 2 \n",
    "E = 2.282e9\n",
    "l_drillstring = 1716.94 * 10                                   # Lenght of the drillstring element (feet)\n",
    "l_bha =  97.6 *10                                              # Length of the bha element (feet)\n",
    "K = E * A / l_drillstring                                      # Spring Constant\n",
    "M = 132.63                                                     # Mass(lbs)\n",
    "BF1 = 0.872                                                    # MW = 8.4 \n",
    "BF2 =   0.863                                                  # MW = 9\n",
    "g = 32.2                                                       # ft/s^2\n",
    "\n",
    "\n",
    "rho_mud = 9                                                     # desnity of the drilling mud\n",
    "Odp =   9.5                                                     # drillpipe outer diameter\n",
    "idp =    3.167                                                  # drillpipe inner diameter\n",
    "Ap =  np.pi * (((Odp**2)/4) -  ((idp**2)/4))                    # crossectional area of the annular space\n",
    "Volp =    Ap * l_drillstring                                    # volume of the pipe\n",
    "\n",
    "\n",
    "obh =     17.5                                                  # bha outer diameter \n",
    "ibh=      3.5                                                   # bha inner diameter \n",
    "Abh=      np.pi *  (((obh**2)/4) -  ((ibh**2)/4))               # area of the bha elements \n",
    "Volbh =   Abh * l_bha                                           # volume of the bha elements\n",
    "\n",
    "\n",
    "total_volume = Volp + Volbh                                     # total volume of the drillstring\n",
    "\n",
    "Wair = M * g                                                # Weight the drillstring\n",
    "Fbuo = (1 - BF1) * Wair                                     # buoyant force exerted by the drilling mud on the drillstring\n",
    "Weffective = Wair * BF1                                        # Effective weight of the drillstring\n",
    "Meffective = Weffective / g                                      # effective mass of the drillstring\n",
    "\n",
    "\n",
    "duration  = 15             # Finding the duration\n",
    "dt= 0.0001                                                      # Define Time Step\n",
    "num_point = int(duration/dt)                                  # Finding the number of points\n",
    "C = 0.35                                                        # Damping Constant\n",
    "t = np.arange(0, duration, dt)                # Define Time range\n",
    "subset_df = df9[df9['Time'] <= 15]             # subsetting for the first ten seconds only\n",
    "                                                          \n",
    "y = np.zeros(len(t))\n",
    "\n",
    "block_velocity_subset = subset_df['Block velocity'].values  \n",
    "length_y = len(y)\n",
    "step1_length = int(0.25 * length_y)\n",
    "step2_length = length_y - step1_length\n",
    "\n",
    "# print(\"this is the lenght of the step1: \" , step1_length)\n",
    "# print(\"this is the lenght of the lengthy: \" , length_y)\n",
    "# print(\"this is the lenght of the bh: \" , df9['Block Height (feet)'])                      \n",
    "y[:step1_length] = df9['Block acceleration'][:step1_length]\n",
    "# y[step1_length:length_y] = df9['Block Height (feet)'][step1_length:length_y] \n",
    "\n",
    "x = np.zeros(len(t))\n",
    "x[0]=0                          # Initial Condition\n",
    "x[1]=df9['Block velocity'][2]\n",
    "\n",
    "\n",
    "\n",
    "\n",
    "A1 = (C / dt) + (Meffective / dt ** 2) + K\n",
    "A2 = (-2 * Meffective / dt ** 2) - (C / dt)\n",
    "A3 = (Meffective / dt ** 2)\n",
    "A4 = (C / dt) + K\n",
    "A5 = (-C / dt)\n",
    "\n",
    "for k in range(2, len(t)):\n",
    "    x[k] = (1 / A1) * (A4 * y[k] + A5 * y[k - 1] - A2 * x[k - 1] - A3 * x[k - 2])\n",
    "\n",
    "t = dt * np.arange(0, len(t))\n",
    "# Plotting\n",
    "plt.figure(1)\n",
    "plt.plot(t, x, t, y, linewidth=2.0)\n",
    "plt.xlabel('Time')\n",
    "plt.ylabel('Displacement')\n",
    "plt.legend(['x(t)', 'y(t)'])\n",
    "plt.title('Displacement vs Time')\n",
    "# plt.xlim(1.35, 2)\n",
    "plt.show()\n",
    "\n"
   ]
  },
  {
   "cell_type": "markdown",
   "metadata": {},
   "source": [
    "think about how you can write C with respect to depth."
   ]
  },
  {
   "cell_type": "code",
   "execution_count": 10,
   "metadata": {},
   "outputs": [
    {
     "name": "stdout",
     "output_type": "stream",
     "text": [
      "0         63.27\n",
      "1         63.27\n",
      "2         63.27\n",
      "3         63.27\n",
      "4         63.27\n",
      "          ...  \n",
      "125536    63.51\n",
      "125537    63.51\n",
      "125538    63.51\n",
      "125539    63.51\n",
      "125540    63.51\n",
      "Name: Block Height (feet), Length: 125541, dtype: float64\n"
     ]
    }
   ],
   "source": [
    "print(df9['Block Height (feet)'])\n",
    "# print(block_height_new[:100])"
   ]
  },
  {
   "cell_type": "code",
   "execution_count": null,
   "metadata": {},
   "outputs": [],
   "source": []
  }
 ],
 "metadata": {
  "kernelspec": {
   "display_name": "Python 3.9.13 64-bit",
   "language": "python",
   "name": "python3"
  },
  "language_info": {
   "codemirror_mode": {
    "name": "ipython",
    "version": 3
   },
   "file_extension": ".py",
   "mimetype": "text/x-python",
   "name": "python",
   "nbconvert_exporter": "python",
   "pygments_lexer": "ipython3",
   "version": "3.9.13"
  },
  "orig_nbformat": 4,
  "vscode": {
   "interpreter": {
    "hash": "aee8b7b246df8f9039afb4144a1f6fd8d2ca17a180786b69acc140d282b71a49"
   }
  }
 },
 "nbformat": 4,
 "nbformat_minor": 2
}
